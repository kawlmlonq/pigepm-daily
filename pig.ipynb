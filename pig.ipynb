{
  "nbformat": 4,
  "nbformat_minor": 0,
  "metadata": {
    "colab": {
      "provenance": []
    },
    "kernelspec": {
      "name": "python3",
      "display_name": "Python 3"
    },
    "language_info": {
      "name": "python"
    }
  },
  "cells": [
    {
      "cell_type": "code",
      "execution_count": null,
      "metadata": {
        "colab": {
          "base_uri": "https://localhost:8080/"
        },
        "id": "TG_E6N7olue3",
        "outputId": "6efe1cc7-2845-4e3c-daff-14ec83a1695f"
      },
      "outputs": [
        {
          "output_type": "stream",
          "name": "stdout",
          "text": [
            "🐷 牧場數量： 986\n",
            "👥 使用者數量： 1063\n",
            "✅ 準備寫入資料中...\n",
            "✅ 寫入完成\n",
            "✅ 已成功寫入 Google Sheet！\n"
          ]
        }
      ],
      "source": [
        "# 安裝 Playwright 與 gspread-formatting（第一次跑時要執行）\n",
        "!pip install -q playwright gspread-formatting\n",
        "!playwright install chromium\n",
        "\n",
        "import nest_asyncio\n",
        "import asyncio\n",
        "from playwright.async_api import async_playwright\n",
        "\n",
        "nest_asyncio.apply()\n",
        "\n",
        "async def scrape_pigepm():\n",
        "    async with async_playwright() as p:\n",
        "        browser = await p.chromium.launch(headless=True, args=[\"--no-sandbox\"])\n",
        "        page = await browser.new_page()\n",
        "        await page.goto(\"https://pigepm.moa.gov.tw/\", wait_until=\"networkidle\")\n",
        "\n",
        "        items = await page.query_selector_all('.number-name-item')\n",
        "        farm_count = user_count = None\n",
        "\n",
        "        for item in items:\n",
        "            label = (await item.inner_text()).strip()\n",
        "            value = (await item.evaluate(\"el => el.previousElementSibling.textContent\")).strip()\n",
        "            if '牧場數量' in label:\n",
        "                farm_count = int(value)\n",
        "            elif '使用者數量' in label:\n",
        "                user_count = int(value)\n",
        "\n",
        "        await browser.close()\n",
        "        return farm_count, user_count\n",
        "\n",
        "farm, user = await scrape_pigepm()\n",
        "\n",
        "print(\"🐷 牧場數量：\", farm)\n",
        "print(\"👥 使用者數量：\", user)\n",
        "\n",
        "# ====== 寫入 Google Sheet ======\n",
        "import gspread\n",
        "import google.auth\n",
        "from google.colab import auth\n",
        "from datetime import datetime\n",
        "from gspread_formatting import *\n",
        "\n",
        "auth.authenticate_user()\n",
        "creds, _ = google.auth.default()\n",
        "gc = gspread.authorize(creds)\n",
        "\n",
        "SHEET_ID = \"1BRfNr84btjJFPH9CXUiTMeojHGb16Y7vRf_D92kHKOU\"\n",
        "WORKSHEET_NAME = \"數據記錄\"\n",
        "\n",
        "sh = gc.open_by_key(SHEET_ID)\n",
        "worksheet = sh.worksheet(WORKSHEET_NAME)\n",
        "\n",
        "# 如果還沒標題，先加上\n",
        "if worksheet.cell(1, 1).value != \"日期時間\":\n",
        "    worksheet.insert_row([\"日期時間\", \"牧場數量\", \"使用者數量\", \"數據來源\"], 1)\n",
        "\n",
        "# 寫入資料（使用 datetime 字串）\n",
        "timestamp = datetime.now().strftime(\"%Y/%m/%d %H:%M:%S\")\n",
        "row = [timestamp, farm, user, \"Playwright-Colab\"]\n",
        "\n",
        "print(\"✅ 準備寫入資料中...\")\n",
        "worksheet.append_row(row, value_input_option='USER_ENTERED')\n",
        "print(\"✅ 寫入完成\")\n",
        "\n",
        "# 格式化 A 欄為 yyyy/MM/dd HH:mm:ss\n",
        "fmt = cellFormat(numberFormat=numberFormat(type='DATE_TIME', pattern='yyyy/MM/dd HH:mm:ss'))\n",
        "format_cell_range(worksheet, 'A:A', fmt)\n",
        "\n",
        "print(\"✅ 已成功寫入 Google Sheet！\")\n"
      ]
    }
  ]
}