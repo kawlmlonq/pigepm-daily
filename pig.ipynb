{
  "nbformat": 4,
  "nbformat_minor": 0,
  "metadata": {
    "colab": {
      "provenance": []
    },
    "kernelspec": {
      "name": "python3",
      "display_name": "Python 3"
    },
    "language_info": {
      "name": "python"
    }
  },
  "cells": [
    {
      "cell_type": "code",
      "execution_count": null,
      "metadata": {
        "colab": {
          "base_uri": "https://localhost:8080/"
        },
        "id": "TG_E6N7olue3",
        "outputId": "244ca423-801d-40e0-bb11-041beb3a9c8f"
      },
      "outputs": [
        {
          "output_type": "stream",
          "name": "stdout",
          "text": [
            "🐷 牧場數量： 986\n",
            "👥 使用者數量： 1063\n",
            "✅ 已成功寫入 Google Sheet！\n",
            "✅ 已送出資料至 Google Sheet，回應： <!DOCTYPE html><html lang=\"en\"><head><meta name=\"description\" content=\"Web word processing, presentations and spreadsheets\"><meta name=\"viewport\" content=\"width=device-width, initial-scale=1.0, maximum-scale=1.0, minimum-scale=1.0, user-scalable=0\"><link rel=\"shortcut icon\" href=\"//docs.google.com/favicon.ico\"><title>Page Not Found</title><meta name=\"referrer\" content=\"origin\"><link href=\"//fonts.googleapis.com/css?family=Product+Sans\" rel=\"stylesheet\" type=\"text/css\" nonce=\"BFb-Cbj1E4wwcj-a30pz9g\"><style nonce=\"BFb-Cbj1E4wwcj-a30pz9g\">.goog-inline-block{position:relative;display:-moz-inline-box;display:inline-block}* html .goog-inline-block{display:inline}*:first-child+html .goog-inline-block{display:inline}#drive-logo{margin:18px 0;position:absolute;white-space:nowrap}.docs-drivelogo-img{background-image:url(//ssl.gstatic.com/images/branding/googlelogo/1x/googlelogo_color_116x41dp.png);-webkit-background-size:116px 41px;background-size:116px 41px;display:inline-block;height:41px;vertical-align:bottom;width:116px}.docs-drivelogo-text{color:#000;display:inline-block;opacity:.54;text-decoration:none;font-family:\"Product Sans\",Arial,Helvetica,sans-serif;font-size:32px;text-rendering:optimizeLegibility;position:relative;top:-6px;left:-7px;-webkit-font-smoothing:antialiased;-moz-osx-font-smoothing:grayscale}@media (-webkit-min-device-pixel-ratio:1.5),(min-resolution:144dpi){.docs-drivelogo-img{background-image:url(//ssl.gstatic.com/images/branding/googlelogo/2x/googlelogo_color_116x41dp.png)}}sentinel{}</style><style type=\"text/css\" nonce=\"BFb-Cbj1E4wwcj-a30pz9g\">body {background-color: #fff; font-family: Arial,sans-serif; font-size: 13px; margin: 0; padding: 0;}a, a:link, a:visited {color: #112ABB;}</style><style type=\"text/css\" nonce=\"BFb-Cbj1E4wwcj-a30pz9g\">.errorMessage {font-size: 12pt; font-weight: bold; line-height: 150%;}</style></head><body><div id=\"outerContainer\"><div id=\"innerContainer\"><div style=\"position: absolute; top: -80px;\"><div id=\"drive-logo\"><a href=\"/\"><span class=\"docs-drivelogo-img\" title=\"Google logo\"></span><span class=\"docs-drivelogo-text\">&nbsp;Drive</span></a></div></div><div align=\"center\"><p class=\"errorMessage\" style=\"padding-top: 50px\">Sorry, unable to open the file at this time.</p><p> Please check the address and try again. </p><div style=\"background: #F0F6FF; border: 1px solid black; margin-top: 35px; padding: 10px 125px; width: 300px;\"><p><strong>Get stuff done with Google Drive</strong></p><p>Apps in Google Drive make it easy to create, store and share online documents, spreadsheets, presentations and more.</p><p>Learn more at <a href=\"https://drive.google.com/start/apps\">drive.google.com/start/apps</a>.</p></div></div></div></div></body><style nonce=\"BFb-Cbj1E4wwcj-a30pz9g\">html {height: 100%; overflow: auto;}body {height: 100%; overflow: auto;}#outerContainer {margin: auto; max-width: 750px;}#innerContainer {margin-bottom: 20px; margin-left: 40px; margin-right: 40px; margin-top: 80px; position: relative;}</style></html>\n"
          ]
        }
      ],
      "source": [
        "!pip install -q playwright\n",
        "!playwright install chromium\n",
        "\n",
        "import nest_asyncio\n",
        "import asyncio\n",
        "from playwright.async_api import async_playwright\n",
        "\n",
        "# 讓 Colab 可以重複使用 async loop（這是關鍵！）\n",
        "nest_asyncio.apply()\n",
        "\n",
        "async def scrape_pigepm():\n",
        "    async with async_playwright() as p:\n",
        "        browser = await p.chromium.launch(headless=True, args=[\"--no-sandbox\"])\n",
        "        page = await browser.new_page()\n",
        "        await page.goto(\"https://pigepm.moa.gov.tw/\", wait_until=\"networkidle\")\n",
        "\n",
        "        items = await page.query_selector_all('.number-name-item')\n",
        "        farm_count = user_count = None\n",
        "\n",
        "        for item in items:\n",
        "            label = (await item.inner_text()).strip()\n",
        "            value = (await item.evaluate(\"el => el.previousElementSibling.textContent\")).strip()\n",
        "            if '牧場數量' in label:\n",
        "                farm_count = int(value)\n",
        "            elif '使用者數量' in label:\n",
        "                user_count = int(value)\n",
        "\n",
        "        await browser.close()\n",
        "        return farm_count, user_count\n",
        "\n",
        "# 正確方式（在 Colab 中）\n",
        "farm, user = await scrape_pigepm()\n",
        "\n",
        "print(\"🐷 牧場數量：\", farm)\n",
        "print(\"👥 使用者數量：\", user)\n",
        "\n",
        "import gspread\n",
        "import google.auth\n",
        "from google.colab import auth\n",
        "from datetime import datetime\n",
        "\n",
        "# 1. 登入 Google 帳號（Colab 會跳出認證流程）\n",
        "auth.authenticate_user()\n",
        "\n",
        "# 2. 取得憑證並授權給 gspread\n",
        "creds, _ = google.auth.default()\n",
        "gc = gspread.authorize(creds)\n",
        "\n",
        "# 3. 指定 Google Sheet ID 與工作表名稱\n",
        "SHEET_ID = \"1BRfNr84btjJFPH9CXUiTMeojHGb16Y7vRf_D92kHKOU\"\n",
        "WORKSHEET_NAME = \"數據記錄\"\n",
        "\n",
        "sh = gc.open_by_key(SHEET_ID)\n",
        "worksheet = sh.worksheet(WORKSHEET_NAME)\n",
        "\n",
        "# 4. 組裝要寫入的資料\n",
        "timestamp = datetime.now().strftime(\"%Y/%m/%d %H:%M:%S\")\n",
        "row = [timestamp, farm, user, \"Playwright-Colab\"]\n",
        "\n",
        "# 5. 檢查標題列（可選）\n",
        "if worksheet.cell(1, 1).value != \"日期時間\":\n",
        "    worksheet.insert_row([\"日期時間\", \"牧場數量\", \"使用者數量\", \"數據來源\"], 1)\n",
        "\n",
        "# 6. 寫入資料\n",
        "worksheet.append_row(row)\n",
        "print(\"✅ 已成功寫入 Google Sheet！\")\n",
        "\n",
        "import requests\n",
        "from datetime import datetime\n",
        "\n",
        "payload = {\n",
        "    \"farmCount\": farm,\n",
        "    \"userCount\": user,\n",
        "    \"source\": \"Playwright-Colab\"\n",
        "}\n",
        "\n",
        "GAS_URL = \"https://script.google.com/macros/s/AKfycbylRiww5xOBR3ElecBOl1Qv5pYGApwVGxXvrbdgWYIid7bQWjdQ_S4Npk29ZBtRNhmL6A/exec\"  # 換成你的 Web App URL\n",
        "r = requests.post(GAS_URL, json=payload)\n",
        "\n",
        "print(\"✅ 已送出資料至 Google Sheet，回應：\", r.text)\n",
        "\n"
      ]
    }
  ]
}